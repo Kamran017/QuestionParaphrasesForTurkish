{
 "cells": [
  {
   "cell_type": "code",
   "execution_count": 62,
   "metadata": {},
   "outputs": [],
   "source": [
    "import pandas as pd"
   ]
  },
  {
   "cell_type": "code",
   "execution_count": 63,
   "metadata": {},
   "outputs": [],
   "source": [
    "d=pd.read_csv(\"TurkQP.csv\")"
   ]
  },
  {
   "cell_type": "code",
   "execution_count": 64,
   "metadata": {},
   "outputs": [
    {
     "data": {
      "text/html": [
       "<div>\n",
       "<style scoped>\n",
       "    .dataframe tbody tr th:only-of-type {\n",
       "        vertical-align: middle;\n",
       "    }\n",
       "\n",
       "    .dataframe tbody tr th {\n",
       "        vertical-align: top;\n",
       "    }\n",
       "\n",
       "    .dataframe thead th {\n",
       "        text-align: right;\n",
       "    }\n",
       "</style>\n",
       "<table border=\"1\" class=\"dataframe\">\n",
       "  <thead>\n",
       "    <tr style=\"text-align: right;\">\n",
       "      <th></th>\n",
       "      <th>q1</th>\n",
       "      <th>q2</th>\n",
       "      <th>duplicate</th>\n",
       "    </tr>\n",
       "  </thead>\n",
       "  <tbody>\n",
       "    <tr>\n",
       "      <th>774</th>\n",
       "      <td>Öğrenci kulüplerine sağlanan imkanlar nelerdir?</td>\n",
       "      <td>öğrenci kulüplerine ne tip imkanlar sunuluyor</td>\n",
       "      <td>1</td>\n",
       "    </tr>\n",
       "    <tr>\n",
       "      <th>2370</th>\n",
       "      <td>Diplomamı kaybettim  yeni diploma alabilir miyim?</td>\n",
       "      <td>Diplomamı benim yerime bir başkası alabilir mi?</td>\n",
       "      <td>0</td>\n",
       "    </tr>\n",
       "    <tr>\n",
       "      <th>470</th>\n",
       "      <td>ders kaydımda çakışma olduğunda ne yapmalıyım</td>\n",
       "      <td>Çakışan derslerim var ders kaydım onaylanır mı?</td>\n",
       "      <td>1</td>\n",
       "    </tr>\n",
       "    <tr>\n",
       "      <th>2403</th>\n",
       "      <td>Mezuniyet başarı sıralamamı öğrenebilir miyim?</td>\n",
       "      <td>Mezuniyet başarı sıralamamı öğrenebilir miyim?</td>\n",
       "      <td>0</td>\n",
       "    </tr>\n",
       "    <tr>\n",
       "      <th>1775</th>\n",
       "      <td>Hangi üniversitelerden yatay geçiş kabul ediyo...</td>\n",
       "      <td>Ana dal yan dal çift anadal programlarında der...</td>\n",
       "      <td>0</td>\n",
       "    </tr>\n",
       "  </tbody>\n",
       "</table>\n",
       "</div>"
      ],
      "text/plain": [
       "                                                     q1  \\\n",
       "774     Öğrenci kulüplerine sağlanan imkanlar nelerdir?   \n",
       "2370  Diplomamı kaybettim  yeni diploma alabilir miyim?   \n",
       "470       ders kaydımda çakışma olduğunda ne yapmalıyım   \n",
       "2403     Mezuniyet başarı sıralamamı öğrenebilir miyim?   \n",
       "1775  Hangi üniversitelerden yatay geçiş kabul ediyo...   \n",
       "\n",
       "                                                     q2  duplicate  \n",
       "774       öğrenci kulüplerine ne tip imkanlar sunuluyor          1  \n",
       "2370    Diplomamı benim yerime bir başkası alabilir mi?          0  \n",
       "470     Çakışan derslerim var ders kaydım onaylanır mı?          1  \n",
       "2403     Mezuniyet başarı sıralamamı öğrenebilir miyim?          0  \n",
       "1775  Ana dal yan dal çift anadal programlarında der...          0  "
      ]
     },
     "execution_count": 64,
     "metadata": {},
     "output_type": "execute_result"
    }
   ],
   "source": [
    "d.sample(frac=1).head()"
   ]
  },
  {
   "cell_type": "code",
   "execution_count": 65,
   "metadata": {},
   "outputs": [
    {
     "data": {
      "text/plain": [
       "0    2187\n",
       "1    1377\n",
       "Name: duplicate, dtype: int64"
      ]
     },
     "execution_count": 65,
     "metadata": {},
     "output_type": "execute_result"
    }
   ],
   "source": [
    "d.duplicate.value_counts()"
   ]
  },
  {
   "cell_type": "markdown",
   "metadata": {},
   "source": [
    "* 0: is not duplicate\n",
    "* 1: is duplicate    "
   ]
  },
  {
   "cell_type": "code",
   "execution_count": null,
   "metadata": {},
   "outputs": [],
   "source": []
  },
  {
   "cell_type": "code",
   "execution_count": null,
   "metadata": {},
   "outputs": [],
   "source": []
  }
 ],
 "metadata": {
  "kernelspec": {
   "display_name": "Python 3",
   "language": "python",
   "name": "python3"
  },
  "language_info": {
   "codemirror_mode": {
    "name": "ipython",
    "version": 3
   },
   "file_extension": ".py",
   "mimetype": "text/x-python",
   "name": "python",
   "nbconvert_exporter": "python",
   "pygments_lexer": "ipython3",
   "version": "3.7.6"
  }
 },
 "nbformat": 4,
 "nbformat_minor": 4
}
