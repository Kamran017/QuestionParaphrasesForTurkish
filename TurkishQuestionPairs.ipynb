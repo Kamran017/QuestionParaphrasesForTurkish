{
 "cells": [
  {
   "cell_type": "code",
   "execution_count": 1,
   "metadata": {},
   "outputs": [],
   "source": [
    "import pandas as pd"
   ]
  },
  {
   "cell_type": "code",
   "execution_count": 49,
   "metadata": {},
   "outputs": [],
   "source": [
    "d4=pd.read_csv(\"TurkQP.csv\")"
   ]
  },
  {
   "cell_type": "code",
   "execution_count": 51,
   "metadata": {},
   "outputs": [
    {
     "data": {
      "text/html": [
       "<div>\n",
       "<style scoped>\n",
       "    .dataframe tbody tr th:only-of-type {\n",
       "        vertical-align: middle;\n",
       "    }\n",
       "\n",
       "    .dataframe tbody tr th {\n",
       "        vertical-align: top;\n",
       "    }\n",
       "\n",
       "    .dataframe thead th {\n",
       "        text-align: right;\n",
       "    }\n",
       "</style>\n",
       "<table border=\"1\" class=\"dataframe\">\n",
       "  <thead>\n",
       "    <tr style=\"text-align: right;\">\n",
       "      <th></th>\n",
       "      <th>q1</th>\n",
       "      <th>q2</th>\n",
       "      <th>duplicate</th>\n",
       "    </tr>\n",
       "  </thead>\n",
       "  <tbody>\n",
       "    <tr>\n",
       "      <th>0</th>\n",
       "      <td>Öğrenimim süresince hangi burslardan yararlana...</td>\n",
       "      <td>Öğrenimim boyunca ne gibi burslardan yararlana...</td>\n",
       "      <td>1</td>\n",
       "    </tr>\n",
       "    <tr>\n",
       "      <th>1</th>\n",
       "      <td>Öğrenimim süresince hangi burslardan yararlana...</td>\n",
       "      <td>Hangi burslardan öğrenim süresince faydalanabi...</td>\n",
       "      <td>1</td>\n",
       "    </tr>\n",
       "    <tr>\n",
       "      <th>2</th>\n",
       "      <td>Öğrenimim boyunca ne gibi burslardan yararlana...</td>\n",
       "      <td>Hangi burslardan öğrenim süresince faydalanabi...</td>\n",
       "      <td>1</td>\n",
       "    </tr>\n",
       "    <tr>\n",
       "      <th>3</th>\n",
       "      <td>Burs almak için nereye ve ne zaman başvurmam g...</td>\n",
       "      <td>Burs için nereye başvurmalıyım</td>\n",
       "      <td>1</td>\n",
       "    </tr>\n",
       "    <tr>\n",
       "      <th>4</th>\n",
       "      <td>Burs almak için nereye ve ne zaman başvurmam g...</td>\n",
       "      <td>Burs almak için ne zaman başvurmam gerekiyor v...</td>\n",
       "      <td>1</td>\n",
       "    </tr>\n",
       "  </tbody>\n",
       "</table>\n",
       "</div>"
      ],
      "text/plain": [
       "                                                  q1  \\\n",
       "0  Öğrenimim süresince hangi burslardan yararlana...   \n",
       "1  Öğrenimim süresince hangi burslardan yararlana...   \n",
       "2  Öğrenimim boyunca ne gibi burslardan yararlana...   \n",
       "3  Burs almak için nereye ve ne zaman başvurmam g...   \n",
       "4  Burs almak için nereye ve ne zaman başvurmam g...   \n",
       "\n",
       "                                                  q2  duplicate  \n",
       "0  Öğrenimim boyunca ne gibi burslardan yararlana...          1  \n",
       "1  Hangi burslardan öğrenim süresince faydalanabi...          1  \n",
       "2  Hangi burslardan öğrenim süresince faydalanabi...          1  \n",
       "3                     Burs için nereye başvurmalıyım          1  \n",
       "4  Burs almak için ne zaman başvurmam gerekiyor v...          1  "
      ]
     },
     "execution_count": 51,
     "metadata": {},
     "output_type": "execute_result"
    }
   ],
   "source": [
    "d4.head()"
   ]
  },
  {
   "cell_type": "code",
   "execution_count": null,
   "metadata": {},
   "outputs": [],
   "source": []
  },
  {
   "cell_type": "code",
   "execution_count": null,
   "metadata": {},
   "outputs": [],
   "source": []
  }
 ],
 "metadata": {
  "kernelspec": {
   "display_name": "Python 3",
   "language": "python",
   "name": "python3"
  },
  "language_info": {
   "codemirror_mode": {
    "name": "ipython",
    "version": 3
   },
   "file_extension": ".py",
   "mimetype": "text/x-python",
   "name": "python",
   "nbconvert_exporter": "python",
   "pygments_lexer": "ipython3",
   "version": "3.7.6"
  }
 },
 "nbformat": 4,
 "nbformat_minor": 4
}
