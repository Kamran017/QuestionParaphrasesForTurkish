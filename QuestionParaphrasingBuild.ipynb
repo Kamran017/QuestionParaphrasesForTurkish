{
 "cells": [
  {
   "cell_type": "code",
   "execution_count": 14,
   "metadata": {},
   "outputs": [],
   "source": [
    "import pandas as pd\n",
    "import sklearn\n",
    "import numpy as np"
   ]
  },
  {
   "cell_type": "code",
   "execution_count": 15,
   "metadata": {},
   "outputs": [],
   "source": [
    "# Question Paraphrases"
   ]
  },
  {
   "cell_type": "code",
   "execution_count": 24,
   "metadata": {},
   "outputs": [],
   "source": [
    "df=pd.read_csv(\"QuestionParaphrasesForTurkish.csv\",sep=\",\")"
   ]
  },
  {
   "cell_type": "code",
   "execution_count": 25,
   "metadata": {},
   "outputs": [
    {
     "data": {
      "text/html": [
       "<div>\n",
       "<style scoped>\n",
       "    .dataframe tbody tr th:only-of-type {\n",
       "        vertical-align: middle;\n",
       "    }\n",
       "\n",
       "    .dataframe tbody tr th {\n",
       "        vertical-align: top;\n",
       "    }\n",
       "\n",
       "    .dataframe thead th {\n",
       "        text-align: right;\n",
       "    }\n",
       "</style>\n",
       "<table border=\"1\" class=\"dataframe\">\n",
       "  <thead>\n",
       "    <tr style=\"text-align: right;\">\n",
       "      <th></th>\n",
       "      <th>ID</th>\n",
       "      <th>q1</th>\n",
       "      <th>q2</th>\n",
       "    </tr>\n",
       "  </thead>\n",
       "  <tbody>\n",
       "    <tr>\n",
       "      <th>0</th>\n",
       "      <td>0</td>\n",
       "      <td>Öğrenimim süresince hangi burslardan yararlana...</td>\n",
       "      <td>Öğrenimim boyunca ne gibi burslardan yararlana...</td>\n",
       "    </tr>\n",
       "    <tr>\n",
       "      <th>1</th>\n",
       "      <td>1</td>\n",
       "      <td>Öğrenimim süresince hangi burslardan yararlana...</td>\n",
       "      <td>Hangi burslardan öğrenim süresince faydalanabi...</td>\n",
       "    </tr>\n",
       "    <tr>\n",
       "      <th>2</th>\n",
       "      <td>2</td>\n",
       "      <td>Öğrenimim boyunca ne gibi burslardan yararlana...</td>\n",
       "      <td>Hangi burslardan öğrenim süresince faydalanabi...</td>\n",
       "    </tr>\n",
       "    <tr>\n",
       "      <th>3</th>\n",
       "      <td>3</td>\n",
       "      <td>Burs almak için nereye ve ne zaman başvurmam g...</td>\n",
       "      <td>Burs için nereye başvurmalıyım</td>\n",
       "    </tr>\n",
       "    <tr>\n",
       "      <th>4</th>\n",
       "      <td>4</td>\n",
       "      <td>Burs almak için nereye ve ne zaman başvurmam g...</td>\n",
       "      <td>Burs almak için ne zaman başvurmam gerekiyor v...</td>\n",
       "    </tr>\n",
       "    <tr>\n",
       "      <th>...</th>\n",
       "      <td>...</td>\n",
       "      <td>...</td>\n",
       "      <td>...</td>\n",
       "    </tr>\n",
       "    <tr>\n",
       "      <th>1372</th>\n",
       "      <td>1372</td>\n",
       "      <td>Yaz okulu vize sınavları ne zaman ?</td>\n",
       "      <td>Yaz okulu vize tarihi aralığı nedir ?</td>\n",
       "    </tr>\n",
       "    <tr>\n",
       "      <th>1373</th>\n",
       "      <td>1373</td>\n",
       "      <td>Yaz okulu vize tarihini öğrenebilir miyim ?</td>\n",
       "      <td>Yaz okulu vize tarihi aralığı nedir ?</td>\n",
       "    </tr>\n",
       "    <tr>\n",
       "      <th>1374</th>\n",
       "      <td>1374</td>\n",
       "      <td>Sahne ve Gösteri Sanatları Yönetimi Özel Yeten...</td>\n",
       "      <td>Sahne ve Gösteri Sanatları Yönetimi Özel Yeten...</td>\n",
       "    </tr>\n",
       "    <tr>\n",
       "      <th>1375</th>\n",
       "      <td>1375</td>\n",
       "      <td>Sahne ve Gösteri Sanatları Yönetimi Özel Yeten...</td>\n",
       "      <td>Sahne ve Gösteri Sanatları Yönetimi Özel Yeten...</td>\n",
       "    </tr>\n",
       "    <tr>\n",
       "      <th>1376</th>\n",
       "      <td>1376</td>\n",
       "      <td>Sahne ve Gösteri Sanatları Yönetimi Özel Yeten...</td>\n",
       "      <td>Sahne ve Gösteri Sanatları Yönetimi Özel Yeten...</td>\n",
       "    </tr>\n",
       "  </tbody>\n",
       "</table>\n",
       "<p>1377 rows × 3 columns</p>\n",
       "</div>"
      ],
      "text/plain": [
       "        ID                                                 q1  \\\n",
       "0        0  Öğrenimim süresince hangi burslardan yararlana...   \n",
       "1        1  Öğrenimim süresince hangi burslardan yararlana...   \n",
       "2        2  Öğrenimim boyunca ne gibi burslardan yararlana...   \n",
       "3        3  Burs almak için nereye ve ne zaman başvurmam g...   \n",
       "4        4  Burs almak için nereye ve ne zaman başvurmam g...   \n",
       "...    ...                                                ...   \n",
       "1372  1372                Yaz okulu vize sınavları ne zaman ?   \n",
       "1373  1373        Yaz okulu vize tarihini öğrenebilir miyim ?   \n",
       "1374  1374  Sahne ve Gösteri Sanatları Yönetimi Özel Yeten...   \n",
       "1375  1375  Sahne ve Gösteri Sanatları Yönetimi Özel Yeten...   \n",
       "1376  1376  Sahne ve Gösteri Sanatları Yönetimi Özel Yeten...   \n",
       "\n",
       "                                                     q2  \n",
       "0     Öğrenimim boyunca ne gibi burslardan yararlana...  \n",
       "1     Hangi burslardan öğrenim süresince faydalanabi...  \n",
       "2     Hangi burslardan öğrenim süresince faydalanabi...  \n",
       "3                        Burs için nereye başvurmalıyım  \n",
       "4     Burs almak için ne zaman başvurmam gerekiyor v...  \n",
       "...                                                 ...  \n",
       "1372              Yaz okulu vize tarihi aralığı nedir ?  \n",
       "1373              Yaz okulu vize tarihi aralığı nedir ?  \n",
       "1374  Sahne ve Gösteri Sanatları Yönetimi Özel Yeten...  \n",
       "1375  Sahne ve Gösteri Sanatları Yönetimi Özel Yeten...  \n",
       "1376  Sahne ve Gösteri Sanatları Yönetimi Özel Yeten...  \n",
       "\n",
       "[1377 rows x 3 columns]"
      ]
     },
     "execution_count": 25,
     "metadata": {},
     "output_type": "execute_result"
    }
   ],
   "source": [
    "df"
   ]
  },
  {
   "cell_type": "code",
   "execution_count": 30,
   "metadata": {},
   "outputs": [
    {
     "data": {
      "text/plain": [
       "('Öğrenimim süresince hangi burslardan yararlanabilirim?',\n",
       " 'Öğrenimim boyunca ne gibi burslardan yararlanabilirim')"
      ]
     },
     "execution_count": 30,
     "metadata": {},
     "output_type": "execute_result"
    }
   ],
   "source": [
    "df.iloc[0,1],  df.iloc[0,2], "
   ]
  },
  {
   "cell_type": "code",
   "execution_count": null,
   "metadata": {},
   "outputs": [],
   "source": []
  },
  {
   "cell_type": "code",
   "execution_count": null,
   "metadata": {},
   "outputs": [],
   "source": []
  }
 ],
 "metadata": {
  "kernelspec": {
   "display_name": "Python 3",
   "language": "python",
   "name": "python3"
  },
  "language_info": {
   "codemirror_mode": {
    "name": "ipython",
    "version": 3
   },
   "file_extension": ".py",
   "mimetype": "text/x-python",
   "name": "python",
   "nbconvert_exporter": "python",
   "pygments_lexer": "ipython3",
   "version": "3.7.6"
  }
 },
 "nbformat": 4,
 "nbformat_minor": 4
}
